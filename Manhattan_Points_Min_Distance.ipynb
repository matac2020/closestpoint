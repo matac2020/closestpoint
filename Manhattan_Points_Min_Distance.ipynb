{
 "cells": [
  {
   "cell_type": "code",
   "execution_count": null,
   "id": "e6e77e95",
   "metadata": {},
   "outputs": [],
   "source": [
    "import numpy as np\n",
    "\n",
    "class points:\n",
    "    \n",
    "    def __init__(self,x,y,z):\n",
    "        self.x = x\n",
    "        self.y = y\n",
    "        self.z = z\n",
    "        \n",
    "    def __repr__(self):\n",
    "        return f'X:{self.x},Y:{self.y},Z:{self.z}'\n",
    "    \n",
    "\n",
    "ten_points = []\n",
    "\n",
    "for i in range(10):\n",
    "    x = np.random.randint(40)\n",
    "    y = np.random.randint(40)\n",
    "    z = np.random.randint(40)\n",
    "    \n",
    "    ten_points.append(points(x,y,z))\n",
    "    \n",
    "    \n",
    "class manhattan:\n",
    "    \n",
    "    def __init__(self,group):\n",
    "        self.group = group\n",
    "    \n",
    "    def distance(self,target):\n",
    "        \n",
    "        min_distance = float('inf')\n",
    "        min_distance_point = None\n",
    "        \n",
    "        for i in self.group:\n",
    "            distance_x = abs(i.x - target.x)\n",
    "            distance_y = abs(i.y - target.y)\n",
    "            distance_z = abs(i.z - target.z)\n",
    "            total_distance = distance_x + distance_y + distance_z\n",
    "        \n",
    "        if total_distance < min_distance:\n",
    "            min_distance = total_distance\n",
    "            min_distance_point = i\n",
    "            \n",
    "        return min_distance_point\n",
    "        \n",
    "x=15\n",
    "y=20\n",
    "z=25\n",
    "target_point = points(x,y,z)\n",
    "\n",
    "manhat = manhattan(ten_points)\n",
    "print(manhat.distance(target_point))"
   ]
  }
 ],
 "metadata": {
  "kernelspec": {
   "display_name": "Python 3 (ipykernel)",
   "language": "python",
   "name": "python3"
  },
  "language_info": {
   "codemirror_mode": {
    "name": "ipython",
    "version": 3
   },
   "file_extension": ".py",
   "mimetype": "text/x-python",
   "name": "python",
   "nbconvert_exporter": "python",
   "pygments_lexer": "ipython3",
   "version": "3.9.7"
  }
 },
 "nbformat": 4,
 "nbformat_minor": 5
}
